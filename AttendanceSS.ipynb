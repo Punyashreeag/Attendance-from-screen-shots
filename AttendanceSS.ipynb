{
 "cells": [
  {
   "cell_type": "code",
   "execution_count": 1,
   "metadata": {},
   "outputs": [
    {
     "name": "stderr",
     "output_type": "stream",
     "text": [
      "Using CPU. Note: This module is much faster with a GPU.\n"
     ]
    }
   ],
   "source": [
    "import cv2\n",
    "from easyocr import Reader\n",
    "import os\n",
    "\n",
    "def cleanup_text(text):\n",
    "    return \"\".join([c if ord(c)< 58 else \"\" for c in text ]).strip()\n",
    "\n",
    "def markAttendance(roll):\n",
    "    if roll not in attendance:\n",
    "        attendance.append(roll)\n",
    "        \n",
    "def extract_attendance(attendance):\n",
    "    attendance.sort()\n",
    "    attendance=attendance[1:]\n",
    " \n",
    "    with open('ssattendance.csv','r') as f:\n",
    "        data=f.readlines()\n",
    "    data=data[1:]\n",
    "    a=[]\n",
    "    c=[]\n",
    "    for l in data:\n",
    "        a.append(l.split(',')[0])\n",
    "        c.append(l.split(',')[1])\n",
    "    res = []\n",
    "    for sub in c:\n",
    "        res.append(sub.replace(\"\\n\", \"\"))\n",
    "    return (a,res)\n",
    "\n",
    "def write_attendance(a,res,attendance):\n",
    "    j=0;\n",
    "    attendance=attendance[1:]\n",
    "    for i in attendance:\n",
    "        while(i!=a[j]) :\n",
    "            j=j+1\n",
    "        res[j]=int(res[j])+1\n",
    "    with open('ssattendance.csv','r+') as f:\n",
    "        for i,j in zip(a,res):\n",
    "            f.writelines(f'\\n{i},{j}')\n",
    "    \n",
    "\n",
    "\n",
    "path='D:/B/Attendance_ss'\n",
    "imglist=os.listdir(path)\n",
    "attendance=[]\n",
    "\n",
    "reader=Reader(['en'], gpu = False)\n",
    "\n",
    "\n",
    "       \n",
    "   \n",
    "       \n",
    "        "
   ]
  },
  {
   "cell_type": "code",
   "execution_count": 2,
   "metadata": {},
   "outputs": [
    {
     "name": "stderr",
     "output_type": "stream",
     "text": [
      "c:\\users\\punyashree a g\\appdata\\local\\programs\\python\\python37\\lib\\site-packages\\torch\\nn\\functional.py:718: UserWarning: Named tensors and all their associated APIs are an experimental feature and subject to change. Please do not use them for anything important until they are released as stable. (Triggered internally at  ..\\c10/core/TensorImpl.h:1156.)\n",
      "  return torch.max_pool2d(input, kernel_size, stride, padding, dilation, ceil_mode)\n"
     ]
    }
   ],
   "source": [
    "for imgs in imglist:\n",
    "     curimg=cv2.imread(f'{path}/{imgs}')\n",
    "     curimg=cv2.resize(curimg,(500,800)) \n",
    "     results=reader.readtext(curimg)\n",
    "        \n",
    "     for (bbox,text,prob) in results:\n",
    "    \n",
    "    \n",
    "        (tl,tr,br,bl)=bbox\n",
    "    \n",
    "        tl=(int(tl[0]),int(tl[1]))\n",
    "        tr=(int(tr[0]),int(tr[1]))\n",
    "        br=(int(br[0]),int(br[1]))\n",
    "        bl=(int(bl[0]),int(bl[1]))\n",
    "    \n",
    "    \n",
    "        text=cleanup_text(text)\n",
    "        if(text!='' and text.startswith('611') ):\n",
    "            markAttendance(text)\n",
    "            cv2.rectangle(curimg,tl,br,(0,255,0),2)\n",
    "            cv2.putText(curimg, text, (tl[0], tl[1] - 10),cv2.FONT_HERSHEY_SIMPLEX, 0.4, (0, 255, 0), 2)\n",
    "            cv2.imshow('img',curimg)\n",
    "            cv2.waitKey(0)\n",
    "            \n",
    "cv2.destroyAllWindows()        "
   ]
  },
  {
   "cell_type": "code",
   "execution_count": 3,
   "metadata": {},
   "outputs": [],
   "source": [
    "a,res=extract_attendance(attendance)\n",
    "write_attendance(a,res,attendance)\n",
    "\n",
    "    \n",
    "\n",
    "\n",
    "\n"
   ]
  },
  {
   "cell_type": "code",
   "execution_count": 4,
   "metadata": {},
   "outputs": [],
   "source": []
  },
  {
   "cell_type": "code",
   "execution_count": null,
   "metadata": {},
   "outputs": [],
   "source": [
    "\n",
    "\n",
    "\n",
    "    "
   ]
  },
  {
   "cell_type": "code",
   "execution_count": 45,
   "metadata": {},
   "outputs": [],
   "source": []
  },
  {
   "cell_type": "code",
   "execution_count": 46,
   "metadata": {},
   "outputs": [],
   "source": []
  },
  {
   "cell_type": "code",
   "execution_count": null,
   "metadata": {},
   "outputs": [],
   "source": []
  }
 ],
 "metadata": {
  "kernelspec": {
   "display_name": "Python 3",
   "language": "python",
   "name": "python3"
  },
  "language_info": {
   "codemirror_mode": {
    "name": "ipython",
    "version": 3
   },
   "file_extension": ".py",
   "mimetype": "text/x-python",
   "name": "python",
   "nbconvert_exporter": "python",
   "pygments_lexer": "ipython3",
   "version": "3.7.9"
  }
 },
 "nbformat": 4,
 "nbformat_minor": 4
}
